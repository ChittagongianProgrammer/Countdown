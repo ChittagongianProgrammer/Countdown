{
 "cells": [
  {
   "cell_type": "markdown",
   "metadata": {},
   "source": [
    "Countdown Timer"
   ]
  },
  {
   "cell_type": "code",
   "execution_count": 22,
   "metadata": {},
   "outputs": [
    {
     "name": "stdout",
     "output_type": "stream",
     "text": [
      "You have 00:00:01 left.\n",
      "IT IS OVER!\n"
     ]
    }
   ],
   "source": [
    "import time\n",
    "\n",
    "my_time = int(input(\"What is the time in seconds?: \"))\n",
    "\n",
    "for x in range(my_time,0,-1):\n",
    "    hour = int(x/3600) % 24\n",
    "    minute = int(x/60) % 60\n",
    "    second = x % 60\n",
    "    print(f\"You have {hour:02}:{minute:02}:{second:02} left.\", end=\"\\r\")\n",
    "    time.sleep(1)\n",
    "\n",
    "print(\"\\r\")\n",
    "print(\"IT IS OVER!\")"
   ]
  }
 ],
 "metadata": {
  "kernelspec": {
   "display_name": "Python 3",
   "language": "python",
   "name": "python3"
  },
  "language_info": {
   "codemirror_mode": {
    "name": "ipython",
    "version": 3
   },
   "file_extension": ".py",
   "mimetype": "text/x-python",
   "name": "python",
   "nbconvert_exporter": "python",
   "pygments_lexer": "ipython3",
   "version": "3.11.7"
  }
 },
 "nbformat": 4,
 "nbformat_minor": 2
}
